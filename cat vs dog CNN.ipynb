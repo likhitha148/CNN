{
 "cells": [
  {
   "cell_type": "code",
   "execution_count": 2,
   "metadata": {},
   "outputs": [],
   "source": [
    "import tensorflow as tf"
   ]
  },
  {
   "cell_type": "code",
   "execution_count": 3,
   "metadata": {},
   "outputs": [],
   "source": [
    "from keras.preprocessing.image import ImageDataGenerator"
   ]
  },
  {
   "cell_type": "code",
   "execution_count": 40,
   "metadata": {},
   "outputs": [
    {
     "name": "stdout",
     "output_type": "stream",
     "text": [
      "Found 25000 images belonging to 2 classes.\n"
     ]
    }
   ],
   "source": [
    "#Data preprocessing\n",
    "\n",
    "train_datagen = ImageDataGenerator(\n",
    "        rescale=1./255,\n",
    "        shear_range=0.2,\n",
    "        zoom_range=0.2,\n",
    "        horizontal_flip=True)\n",
    "\n",
    "train_generator = train_datagen.flow_from_directory(\n",
    "        r'C:\\Users\\likhitha\\Data set\\training',\n",
    "        target_size=(64,64),\n",
    "        batch_size=32,\n",
    "        class_mode='binary')"
   ]
  },
  {
   "cell_type": "code",
   "execution_count": 41,
   "metadata": {},
   "outputs": [
    {
     "name": "stdout",
     "output_type": "stream",
     "text": [
      "Found 25000 images belonging to 2 classes.\n"
     ]
    }
   ],
   "source": [
    "test_datagen = ImageDataGenerator(rescale=1./255)\n",
    "\n",
    "validation_generator = test_datagen.flow_from_directory(\n",
    "        r'C:\\Users\\likhitha\\Data set\\testing',\n",
    "        target_size=(64, 64),\n",
    "        batch_size=32,\n",
    "        class_mode='binary')"
   ]
  },
  {
   "cell_type": "code",
   "execution_count": 6,
   "metadata": {},
   "outputs": [],
   "source": [
    "#Build CNN model\n",
    "\n",
    "#Initalize\n",
    "\n",
    "cnn=tf.keras.models.Sequential()"
   ]
  },
  {
   "cell_type": "code",
   "execution_count": 7,
   "metadata": {
    "scrolled": true
   },
   "outputs": [],
   "source": [
    "#Convolution\n",
    "\n",
    "cnn.add(tf.keras.layers.Conv2D(filters=32,kernel_size=3,activation='relu',input_shape=[64,64,3]))"
   ]
  },
  {
   "cell_type": "code",
   "execution_count": 8,
   "metadata": {},
   "outputs": [],
   "source": [
    "#pooling\n",
    "\n",
    "\n",
    "cnn.add(tf.keras.layers.MaxPool2D(pool_size=2,strides=2))"
   ]
  },
  {
   "cell_type": "code",
   "execution_count": 9,
   "metadata": {},
   "outputs": [],
   "source": [
    "#Add 1 more layer\n",
    "\n",
    "cnn.add(tf.keras.layers.Conv2D(filters=32,kernel_size=3,activation='relu'))\n",
    "\n",
    "cnn.add(tf.keras.layers.MaxPool2D(pool_size=2,strides=2))"
   ]
  },
  {
   "cell_type": "code",
   "execution_count": 10,
   "metadata": {},
   "outputs": [],
   "source": [
    "#flatten\n",
    "\n",
    "cnn.add(tf.keras.layers.Flatten())"
   ]
  },
  {
   "cell_type": "code",
   "execution_count": 11,
   "metadata": {},
   "outputs": [],
   "source": [
    "#Full connection\n",
    "\n",
    "cnn.add(tf.keras.layers.Dense(units=128,activation='relu'))"
   ]
  },
  {
   "cell_type": "code",
   "execution_count": 12,
   "metadata": {},
   "outputs": [],
   "source": [
    "#output layer\n",
    "\n",
    "cnn.add(tf.keras.layers.Dense(units=1,activation='sigmoid'))   #activation will be sigmoid because last layer will be binary \n",
    "                                                               #classification so only 2 class will be present.\n",
    "                                                               #if output is more than 2 then we will aply softmax."
   ]
  },
  {
   "cell_type": "code",
   "execution_count": 13,
   "metadata": {},
   "outputs": [],
   "source": [
    "#Compile the model\n",
    "\n",
    "cnn.compile(optimizer='adam',loss='binary_crossentropy',metrics=['accuracy'])"
   ]
  },
  {
   "cell_type": "code",
   "execution_count": 14,
   "metadata": {
    "scrolled": true
   },
   "outputs": [
    {
     "name": "stdout",
     "output_type": "stream",
     "text": [
      "Epoch 1/20\n",
      "725/782 [==========================>...] - ETA: 12s - loss: 0.6042 - accuracy: 0.6643"
     ]
    },
    {
     "name": "stderr",
     "output_type": "stream",
     "text": [
      "C:\\Users\\likhitha\\anaconda3\\lib\\site-packages\\PIL\\TiffImagePlugin.py:770: UserWarning: Possibly corrupt EXIF data.  Expecting to read 32 bytes but only got 0. Skipping tag 270\n",
      "  warnings.warn(\n",
      "C:\\Users\\likhitha\\anaconda3\\lib\\site-packages\\PIL\\TiffImagePlugin.py:770: UserWarning: Possibly corrupt EXIF data.  Expecting to read 5 bytes but only got 0. Skipping tag 271\n",
      "  warnings.warn(\n",
      "C:\\Users\\likhitha\\anaconda3\\lib\\site-packages\\PIL\\TiffImagePlugin.py:770: UserWarning: Possibly corrupt EXIF data.  Expecting to read 8 bytes but only got 0. Skipping tag 272\n",
      "  warnings.warn(\n",
      "C:\\Users\\likhitha\\anaconda3\\lib\\site-packages\\PIL\\TiffImagePlugin.py:770: UserWarning: Possibly corrupt EXIF data.  Expecting to read 8 bytes but only got 0. Skipping tag 282\n",
      "  warnings.warn(\n",
      "C:\\Users\\likhitha\\anaconda3\\lib\\site-packages\\PIL\\TiffImagePlugin.py:770: UserWarning: Possibly corrupt EXIF data.  Expecting to read 8 bytes but only got 0. Skipping tag 283\n",
      "  warnings.warn(\n",
      "C:\\Users\\likhitha\\anaconda3\\lib\\site-packages\\PIL\\TiffImagePlugin.py:770: UserWarning: Possibly corrupt EXIF data.  Expecting to read 20 bytes but only got 0. Skipping tag 306\n",
      "  warnings.warn(\n",
      "C:\\Users\\likhitha\\anaconda3\\lib\\site-packages\\PIL\\TiffImagePlugin.py:770: UserWarning: Possibly corrupt EXIF data.  Expecting to read 48 bytes but only got 0. Skipping tag 532\n",
      "  warnings.warn(\n",
      "C:\\Users\\likhitha\\anaconda3\\lib\\site-packages\\PIL\\TiffImagePlugin.py:792: UserWarning: Corrupt EXIF data.  Expecting to read 2 bytes but only got 0. \n",
      "  warnings.warn(str(msg))\n"
     ]
    },
    {
     "name": "stdout",
     "output_type": "stream",
     "text": [
      "782/782 [==============================] - 294s 376ms/step - loss: 0.6008 - accuracy: 0.6681 - val_loss: 0.5053 - val_accuracy: 0.7559\n",
      "Epoch 2/20\n",
      "782/782 [==============================] - 290s 371ms/step - loss: 0.5117 - accuracy: 0.7482 - val_loss: 0.4465 - val_accuracy: 0.7889\n",
      "Epoch 3/20\n",
      "782/782 [==============================] - 297s 380ms/step - loss: 0.4666 - accuracy: 0.7770 - val_loss: 0.4264 - val_accuracy: 0.8006\n",
      "Epoch 4/20\n",
      "782/782 [==============================] - 957s 1s/step - loss: 0.4416 - accuracy: 0.7931 - val_loss: 0.4065 - val_accuracy: 0.8147\n",
      "Epoch 5/20\n",
      "782/782 [==============================] - 327s 419ms/step - loss: 0.4243 - accuracy: 0.8032 - val_loss: 0.3847 - val_accuracy: 0.8302\n",
      "Epoch 6/20\n",
      "782/782 [==============================] - 347s 444ms/step - loss: 0.4025 - accuracy: 0.8150 - val_loss: 0.3677 - val_accuracy: 0.8338\n",
      "Epoch 7/20\n",
      "782/782 [==============================] - 317s 405ms/step - loss: 0.3874 - accuracy: 0.8245 - val_loss: 0.3336 - val_accuracy: 0.8548\n",
      "Epoch 8/20\n",
      "782/782 [==============================] - 301s 385ms/step - loss: 0.3708 - accuracy: 0.8312 - val_loss: 0.3412 - val_accuracy: 0.8486\n",
      "Epoch 9/20\n",
      "782/782 [==============================] - 296s 379ms/step - loss: 0.3576 - accuracy: 0.8399 - val_loss: 0.3288 - val_accuracy: 0.8564\n",
      "Epoch 10/20\n",
      "782/782 [==============================] - 297s 380ms/step - loss: 0.3421 - accuracy: 0.8487 - val_loss: 0.3102 - val_accuracy: 0.8635\n",
      "Epoch 11/20\n",
      "782/782 [==============================] - 295s 378ms/step - loss: 0.3330 - accuracy: 0.8520 - val_loss: 0.3053 - val_accuracy: 0.8650\n",
      "Epoch 12/20\n",
      "782/782 [==============================] - 301s 385ms/step - loss: 0.3160 - accuracy: 0.8620 - val_loss: 0.2589 - val_accuracy: 0.8909\n",
      "Epoch 13/20\n",
      "782/782 [==============================] - 308s 394ms/step - loss: 0.3071 - accuracy: 0.8674 - val_loss: 0.2436 - val_accuracy: 0.8971\n",
      "Epoch 14/20\n",
      "782/782 [==============================] - 308s 394ms/step - loss: 0.2956 - accuracy: 0.8734 - val_loss: 0.2391 - val_accuracy: 0.8993\n",
      "Epoch 15/20\n",
      "782/782 [==============================] - 307s 393ms/step - loss: 0.2834 - accuracy: 0.8778 - val_loss: 0.2537 - val_accuracy: 0.8962\n",
      "Epoch 16/20\n",
      "782/782 [==============================] - 310s 397ms/step - loss: 0.2761 - accuracy: 0.8833 - val_loss: 0.2495 - val_accuracy: 0.8940\n",
      "Epoch 17/20\n",
      "782/782 [==============================] - 366s 469ms/step - loss: 0.2667 - accuracy: 0.8860 - val_loss: 0.2254 - val_accuracy: 0.9075\n",
      "Epoch 18/20\n",
      "782/782 [==============================] - 381s 487ms/step - loss: 0.2540 - accuracy: 0.8938 - val_loss: 0.2003 - val_accuracy: 0.9200\n",
      "Epoch 19/20\n",
      "782/782 [==============================] - 340s 435ms/step - loss: 0.2467 - accuracy: 0.8958 - val_loss: 0.2098 - val_accuracy: 0.9165\n",
      "Epoch 20/20\n",
      "782/782 [==============================] - 293s 375ms/step - loss: 0.2347 - accuracy: 0.9013 - val_loss: 0.1836 - val_accuracy: 0.9275\n"
     ]
    }
   ],
   "source": [
    "#Train the model\n",
    "\n",
    "history=cnn.fit(x=train_generator,validation_data=validation_generator,epochs=20)"
   ]
  },
  {
   "cell_type": "code",
   "execution_count": 60,
   "metadata": {},
   "outputs": [],
   "source": [
    "import numpy as np \n",
    "from keras.preprocessing import image \n",
    "test_image=image.load_img(r\"C:\\Users\\likhitha\\Data set\\single_prediction\\58.jpg\",target_size=(64,64))\n",
    "test_image=image.img_to_array(test_image)\n",
    "test_image=np.expand_dims(test_image,axis=0)\n",
    "result=cnn.predict(test_image)\n",
    "train_generator.class_indices\n",
    "\n",
    "if result[0][0]==1:\n",
    "    prediction='dog'\n",
    "else:\n",
    "    prediction='cat'"
   ]
  },
  {
   "cell_type": "code",
   "execution_count": 61,
   "metadata": {},
   "outputs": [
    {
     "data": {
      "text/plain": [
       "'cat'"
      ]
     },
     "execution_count": 61,
     "metadata": {},
     "output_type": "execute_result"
    }
   ],
   "source": [
    "\n",
    "prediction"
   ]
  },
  {
   "cell_type": "code",
   "execution_count": 17,
   "metadata": {},
   "outputs": [
    {
     "name": "stdout",
     "output_type": "stream",
     "text": [
      "dict_keys(['loss', 'accuracy', 'val_loss', 'val_accuracy'])\n"
     ]
    }
   ],
   "source": [
    "import matplotlib.pyplot as plt\n",
    "print(history.history.keys())"
   ]
  },
  {
   "cell_type": "code",
   "execution_count": 18,
   "metadata": {},
   "outputs": [
    {
     "data": {
      "text/plain": [
       "[<matplotlib.lines.Line2D at 0x1d806e15190>]"
      ]
     },
     "execution_count": 18,
     "metadata": {},
     "output_type": "execute_result"
    },
    {
     "data": {
      "image/png": "[encoded data removed]",
      "text/plain": [
       "<Figure size 432x288 with 1 Axes>"
      ]
     },
     "metadata": {
      "needs_background": "light"
     },
     "output_type": "display_data"
    }
   ],
   "source": [
    "plt.plot(history.history['accuracy'])\n",
    "plt.plot(history.history['val_loss'])\n",
    "plt.plot(history.history['val_accuracy'])"
   ]
  },
  {
   "cell_type": "code",
   "execution_count": null,
   "metadata": {},
   "outputs": [],
   "source": []
  }
 ],
 "metadata": {
  "kernelspec": {
   "display_name": "Python 3",
   "language": "python",
   "name": "python3"
  },
  "language_info": {
   "codemirror_mode": {
    "name": "ipython",
    "version": 3
   },
   "file_extension": ".py",
   "mimetype": "text/x-python",
   "name": "python",
   "nbconvert_exporter": "python",
   "pygments_lexer": "ipython3",
   "version": "3.8.5"
  }
 },
 "nbformat": 4,
 "nbformat_minor": 4
}
